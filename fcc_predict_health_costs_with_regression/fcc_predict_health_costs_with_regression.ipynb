{
  "cells": [
    {
      "cell_type": "markdown",
      "metadata": {
        "id": "view-in-github",
        "colab_type": "text"
      },
      "source": [
        "<a href=\"https://colab.research.google.com/github/salahAlawieh/Machine-Learning-with-Python/blob/main/fcc_predict_health_costs_with_regression.ipynb\" target=\"_parent\"><img src=\"https://colab.research.google.com/assets/colab-badge.svg\" alt=\"Open In Colab\"/></a>"
      ]
    },
    {
      "cell_type": "code",
      "execution_count": null,
      "metadata": {
        "id": "1rRo8oNqZ-Rj"
      },
      "outputs": [],
      "source": [
        "# Cell 1 - Import Libraries\n",
        "\n",
        "# Install TensorFlow documentation tools for plotting and model tracking\n",
        "!pip install -q git+https://github.com/tensorflow/docs\n",
        "\n",
        "# Common data handling and visualization libraries\n",
        "import matplotlib.pyplot as plt\n",
        "import numpy as np\n",
        "import pandas as pd\n",
        "\n",
        "# Ensure TensorFlow 2.x is active in Colab\n",
        "try:\n",
        "    %tensorflow_version 2.x\n",
        "except Exception:\n",
        "    pass\n",
        "\n",
        "# TensorFlow and Keras for building and training models\n",
        "import tensorflow as tf\n",
        "from tensorflow import keras\n",
        "from tensorflow.keras import layers\n",
        "\n",
        "# TensorFlow Docs utilities for visualization\n",
        "import tensorflow_docs as tfdocs\n",
        "import tensorflow_docs.plots\n",
        "import tensorflow_docs.modeling\n"
      ]
    },
    {
      "cell_type": "code",
      "execution_count": null,
      "metadata": {
        "id": "CiX2FI4gZtTt"
      },
      "outputs": [],
      "source": [
        "# Cell 2 - Load Dataset\n",
        "\n",
        "# Download dataset\n",
        "!wget https://cdn.freecodecamp.org/project-data/health-costs/insurance.csv\n",
        "\n",
        "# Load dataset into pandas DataFrame\n",
        "dataset = pd.read_csv('insurance.csv')\n",
        "\n",
        "# Preview last 5 rows\n",
        "dataset.tail()"
      ]
    },
    {
      "cell_type": "code",
      "execution_count": null,
      "metadata": {
        "id": "LcopvQh3X-kX"
      },
      "outputs": [],
      "source": [
        "# Cell 3 - Inspect Dataset\n",
        "\n",
        "# Preview first few rows\n",
        "print(\"Sample records:\")\n",
        "display(dataset.head())\n",
        "\n",
        "# Data types and structure\n",
        "print(\"\\nDataset Info:\")\n",
        "dataset.info()\n",
        "\n",
        "# Summary statistics for numeric columns\n",
        "print(\"\\nSummary statistics:\")\n",
        "display(dataset.describe())\n",
        "\n",
        "# Check for missing values\n",
        "print(\"\\nMissing values per column:\")\n",
        "print(dataset.isnull().sum())"
      ]
    },
    {
      "cell_type": "code",
      "source": [
        "# Cell 4 - Encode Categorical Data\n",
        "\n",
        "# One-hot encode categorical columns: sex, smoker, region\n",
        "dataset = pd.get_dummies(dataset, columns=['sex', 'smoker', 'region'], drop_first=True)\n",
        "\n",
        "# Display dataset info and sample\n",
        "print(\"Updated dataset info after encoding:\")\n",
        "dataset.info()\n",
        "print(\"\\nSample of encoded dataset:\")\n",
        "display(dataset.head())"
      ],
      "metadata": {
        "id": "pa8lAurQisHa"
      },
      "execution_count": null,
      "outputs": []
    },
    {
      "cell_type": "code",
      "source": [
        "# Cell 5 - Split Data and Separate Labels\n",
        "\n",
        "from sklearn.model_selection import train_test_split\n",
        "\n",
        "# Split 80% train, 20% test\n",
        "train_dataset, test_dataset = train_test_split(dataset, test_size=0.2, random_state=42)\n",
        "\n",
        "# Separate labels ('expenses')\n",
        "train_labels = train_dataset.pop('expenses')\n",
        "test_labels = test_dataset.pop('expenses')\n",
        "\n",
        "# Confirm shapes\n",
        "print(\"Training set shape:\", train_dataset.shape)\n",
        "print(\"Testing set shape:\", test_dataset.shape)\n",
        "print(\"\\nTraining labels shape:\", train_labels.shape)\n",
        "print(\"Testing labels shape:\", test_labels.shape)"
      ],
      "metadata": {
        "id": "7qDq7zuAi3tZ"
      },
      "execution_count": null,
      "outputs": []
    },
    {
      "cell_type": "code",
      "source": [
        "# Cell 6 - Normalize Numeric Features\n",
        "\n",
        "from sklearn.preprocessing import StandardScaler\n",
        "\n",
        "# Numeric features to scale\n",
        "numeric_features = ['age', 'bmi', 'children']\n",
        "\n",
        "# Initialize scaler\n",
        "scaler = StandardScaler()\n",
        "\n",
        "# Fit on training data and transform both train and test sets\n",
        "train_dataset[numeric_features] = scaler.fit_transform(train_dataset[numeric_features])\n",
        "test_dataset[numeric_features] = scaler.transform(test_dataset[numeric_features])\n",
        "\n",
        "# Preview normalized dataset\n",
        "print(\"Sample of normalized training dataset:\")\n",
        "display(train_dataset.head())"
      ],
      "metadata": {
        "id": "L8XjyqBEjCN4"
      },
      "execution_count": null,
      "outputs": []
    },
    {
      "cell_type": "code",
      "source": [
        "# Cell 7 - Build Improved Neural Network Model\n",
        "\n",
        "# Define model with two hidden layers for nonlinear relationships\n",
        "model = keras.Sequential([\n",
        "    layers.Dense(64, activation='relu', input_shape=[train_dataset.shape[1]]),\n",
        "    layers.Dense(32, activation='relu'),\n",
        "    layers.Dense(1)  # Output layer for regression\n",
        "])\n",
        "\n",
        "# Compile model\n",
        "model.compile(\n",
        "    optimizer=keras.optimizers.Adam(learning_rate=0.001),\n",
        "    loss='mse',\n",
        "    metrics=['mae']\n",
        ")\n",
        "\n",
        "# Display summary\n",
        "model.summary()"
      ],
      "metadata": {
        "id": "ZKOmT_8DjMLo"
      },
      "execution_count": null,
      "outputs": []
    },
    {
      "cell_type": "code",
      "source": [
        "# Cell 8 - Train Improved Neural Network Model\n",
        "\n",
        "# Early stopping to prevent overfitting\n",
        "early_stop = keras.callbacks.EarlyStopping(monitor='val_loss', patience=20, restore_best_weights=True)\n",
        "\n",
        "# Train model\n",
        "history = model.fit(\n",
        "    train_dataset,\n",
        "    train_labels,\n",
        "    validation_split=0.2,\n",
        "    epochs=500,\n",
        "    batch_size=32,\n",
        "    callbacks=[early_stop],\n",
        "    verbose=1\n",
        ")\n",
        "\n",
        "# Plot training and validation MAE\n",
        "plt.figure(figsize=(8,5))\n",
        "plt.plot(history.history['mae'], label='Train MAE')\n",
        "plt.plot(history.history['val_mae'], label='Validation MAE')\n",
        "plt.xlabel('Epoch')\n",
        "plt.ylabel('MAE')\n",
        "plt.legend()\n",
        "plt.title('Training and Validation MAE')\n",
        "plt.show()"
      ],
      "metadata": {
        "id": "1xiF4n3AjZKN"
      },
      "execution_count": null,
      "outputs": []
    },
    {
      "cell_type": "code",
      "source": [
        "# Cell 9 - Evaluate Improved Model on Test Set\n",
        "\n",
        "# Evaluate model on test set\n",
        "test_loss, test_mae = model.evaluate(test_dataset, test_labels, verbose=2)\n",
        "print(f\"\\nTest Mean Absolute Error (MAE): {test_mae:.2f}\")\n",
        "\n",
        "# Make predictions\n",
        "test_predictions = model.predict(test_dataset).flatten()\n",
        "\n",
        "# Plot predicted vs actual\n",
        "plt.figure(figsize=(8,6))\n",
        "plt.scatter(test_labels, test_predictions, alpha=0.6)\n",
        "plt.xlabel('Actual Expenses')\n",
        "plt.ylabel('Predicted Expenses')\n",
        "plt.title('Actual vs Predicted Healthcare Expenses')\n",
        "lims = [0, 50000]\n",
        "plt.xlim(lims)\n",
        "plt.ylim(lims)\n",
        "plt.plot(lims, lims, color='red', linestyle='--')\n",
        "plt.show()"
      ],
      "metadata": {
        "id": "SYArKFQfj3yh"
      },
      "execution_count": null,
      "outputs": []
    },
    {
      "cell_type": "code",
      "execution_count": null,
      "metadata": {
        "id": "Xe7RXH3N3CWU"
      },
      "outputs": [],
      "source": [
        "# Cell 10 - Test Challenge Submission (Fixed)\n",
        "\n",
        "# Evaluate model on test set\n",
        "loss, mae = model.evaluate(test_dataset, test_labels, verbose=2)\n",
        "print(\"Testing set Mean Abs Error: {:5.2f} expenses\".format(mae))\n",
        "\n",
        "# Check if challenge passed\n",
        "if mae < 3500:\n",
        "    print(\"You passed the challenge. Great job!\")\n",
        "else:\n",
        "    print(\"The Mean Abs Error must be less than 3500. Keep trying.\")\n",
        "\n",
        "# Predictions and plot\n",
        "test_predictions = model.predict(test_dataset).flatten()\n",
        "\n",
        "plt.figure(figsize=(8,6))\n",
        "a = plt.axes(aspect='equal')\n",
        "plt.scatter(test_labels, test_predictions, alpha=0.6)\n",
        "plt.xlabel('True values (expenses)')\n",
        "plt.ylabel('Predictions (expenses)')\n",
        "plt.title('Predicted vs Actual Expenses')\n",
        "lims = [0, 50000]\n",
        "plt.xlim(lims)\n",
        "plt.ylim(lims)\n",
        "plt.plot(lims, lims, color='red', linestyle='--')\n",
        "plt.show()"
      ]
    }
  ],
  "metadata": {
    "colab": {
      "name": "fcc_predict_health_costs_with_regression.ipynb",
      "private_outputs": true,
      "provenance": [],
      "toc_visible": true,
      "include_colab_link": true
    },
    "kernelspec": {
      "display_name": "Python 3",
      "name": "python3"
    }
  },
  "nbformat": 4,
  "nbformat_minor": 0
}