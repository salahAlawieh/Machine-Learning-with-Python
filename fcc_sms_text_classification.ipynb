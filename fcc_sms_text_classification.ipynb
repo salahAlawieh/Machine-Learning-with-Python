{
  "cells": [
    {
      "cell_type": "markdown",
      "metadata": {
        "id": "view-in-github",
        "colab_type": "text"
      },
      "source": [
        "<a href=\"https://colab.research.google.com/github/salahAlawieh/Machine-Learning-with-Python/blob/main/fcc_sms_text_classification.ipynb\" target=\"_parent\"><img src=\"https://colab.research.google.com/assets/colab-badge.svg\" alt=\"Open In Colab\"/></a>"
      ]
    },
    {
      "cell_type": "code",
      "execution_count": null,
      "metadata": {
        "id": "8RZOuS9LWQvv"
      },
      "outputs": [],
      "source": [
        "# Cell 1 - Setup Environment and Libraries\n",
        "# Install the correct TensorFlow version and import required packages\n",
        "\n",
        "# Uninstall conflicting versions\n",
        "!pip uninstall -y tensorflow tf-nightly -q\n",
        "\n",
        "# Install TensorFlow 2.19 and TensorFlow Datasets\n",
        "!pip install tensorflow==2.19.0 tensorflow-datasets -q\n",
        "\n",
        "# Import libraries\n",
        "import tensorflow as tf\n",
        "from tensorflow import keras\n",
        "import tensorflow_datasets as tfds\n",
        "import pandas as pd\n",
        "import numpy as np\n",
        "import matplotlib.pyplot as plt\n",
        "from sklearn.preprocessing import LabelEncoder\n",
        "import os\n",
        "\n",
        "# Verify TensorFlow installation and GPU availability\n",
        "print(\"TensorFlow version:\", tf.__version__)\n",
        "print(\"GPU available:\", tf.config.list_physical_devices('GPU'))\n",
        "\n",
        "# Note: In Colab, restart runtime if version mismatch occurs\n",
        "if tf.__version__ != \"2.19.0\":\n",
        "    print(\"\\n⚠️ TensorFlow version is not 2.19.0. Restart runtime and rerun this cell.\")"
      ]
    },
    {
      "cell_type": "code",
      "execution_count": null,
      "metadata": {
        "id": "lMHwYXHXCar3"
      },
      "outputs": [],
      "source": [
        "# Cell 2 - Download SMS Spam Collection Dataset\n",
        "# Short: Get training and validation TSV files\n",
        "\n",
        "!wget https://cdn.freecodecamp.org/project-data/sms/train-data.tsv\n",
        "!wget https://cdn.freecodecamp.org/project-data/sms/valid-data.tsv\n",
        "\n",
        "train_file_path = \"train-data.tsv\"\n",
        "test_file_path = \"valid-data.tsv\""
      ]
    },
    {
      "cell_type": "code",
      "execution_count": null,
      "metadata": {
        "id": "g_h508FEClxO"
      },
      "outputs": [],
      "source": [
        "# Cell 3 - Load data using pandas and inspect\n",
        "# Short: Load TSV files into DataFrames and explore shape and label distribution\n",
        "\n",
        "train_df = pd.read_csv(train_file_path, sep='\\t', header=None, names=['label', 'message'])\n",
        "test_df = pd.read_csv(test_file_path, sep='\\t', header=None, names=['label', 'message'])\n",
        "\n",
        "print(\"Training set shape:\", train_df.shape)\n",
        "print(\"Validation set shape:\", test_df.shape)\n",
        "\n",
        "print(\"\\nLabel distribution (train):\")\n",
        "print(train_df['label'].value_counts())\n",
        "\n",
        "print(\"\\nLabel distribution (validation):\")\n",
        "print(test_df['label'].value_counts())\n",
        "\n",
        "# Display sample messages\n",
        "print(\"\\nSample messages:\")\n",
        "print(train_df.head())"
      ]
    },
    {
      "cell_type": "code",
      "execution_count": null,
      "metadata": {
        "id": "zOMKywn4zReN"
      },
      "outputs": [],
      "source": [
        "# Cell 4 - Encode labels as 0 (ham) and 1 (spam)\n",
        "# Short: Convert text labels to numeric for model training\n",
        "\n",
        "le = LabelEncoder()\n",
        "y_train = le.fit_transform(train_df['label'])  # ham=0, spam=1\n",
        "y_test = le.transform(test_df['label'])\n",
        "\n",
        "X_train = train_df['message'].values\n",
        "X_test = test_df['message'].values\n",
        "\n",
        "# Inspect a few samples\n",
        "print(\"Training labels sample:\", y_train[:10])\n",
        "print(\"\\nTraining messages sample:\")\n",
        "print(X_train[:5])"
      ]
    },
    {
      "cell_type": "code",
      "source": [
        "# Cell 5 - Tokenize text messages and pad sequences\n",
        "# Short: Convert words to integers and pad sequences to fixed length\n",
        "\n",
        "vocab_size = 2000     # increased vocab size to better capture spam words\n",
        "max_length = 100\n",
        "oov_token = \"<OOV>\"\n",
        "\n",
        "# Initialize tokenizer and fit on training messages\n",
        "tokenizer = keras.preprocessing.text.Tokenizer(num_words=vocab_size, oov_token=oov_token)\n",
        "tokenizer.fit_on_texts(X_train)\n",
        "\n",
        "# Convert text to sequences\n",
        "X_train_seq = tokenizer.texts_to_sequences(X_train)\n",
        "X_test_seq = tokenizer.texts_to_sequences(X_test)\n",
        "\n",
        "# Pad sequences to max_length\n",
        "X_train_padded = keras.preprocessing.sequence.pad_sequences(\n",
        "    X_train_seq, maxlen=max_length, padding='post', truncating='post'\n",
        ")\n",
        "X_test_padded = keras.preprocessing.sequence.pad_sequences(\n",
        "    X_test_seq, maxlen=max_length, padding='post', truncating='post'\n",
        ")\n",
        "\n",
        "# Inspect shapes and example tokenized sequence\n",
        "print(\"Training padded shape:\", X_train_padded.shape)\n",
        "print(\"Validation padded shape:\", X_test_padded.shape)\n",
        "print(\"\\nExample tokenized & padded sequence (first 20 tokens of first message):\")\n",
        "print(X_train_padded[0][:20])"
      ],
      "metadata": {
        "id": "mvXIi2poT7PR"
      },
      "execution_count": null,
      "outputs": []
    },
    {
      "cell_type": "code",
      "source": [
        "# Cell 6 - Build Neural Network\n",
        "# Short: Define a sequential model with embedding and dense layers for binary classification\n",
        "\n",
        "model = keras.Sequential([\n",
        "    keras.layers.Embedding(input_dim=vocab_size, output_dim=16),\n",
        "    keras.layers.GlobalAveragePooling1D(),\n",
        "    keras.layers.Dense(16, activation='relu'),\n",
        "    keras.layers.Dense(1, activation='sigmoid')  # sigmoid output for binary (ham/spam)\n",
        "])\n",
        "\n",
        "# Compile the model\n",
        "model.compile(\n",
        "    loss='binary_crossentropy',\n",
        "    optimizer='adam',\n",
        "    metrics=['accuracy']\n",
        ")\n",
        "\n",
        "# Show model architecture\n",
        "model.summary()"
      ],
      "metadata": {
        "id": "IxFwBIouT_Ee"
      },
      "execution_count": null,
      "outputs": []
    },
    {
      "cell_type": "code",
      "source": [
        "# Cell 7 - Train the model with class weighting to handle imbalance\n",
        "# Short: Train with balanced class weights and more epochs\n",
        "\n",
        "from sklearn.utils import class_weight\n",
        "\n",
        "# Compute class weights to balance ham vs spam\n",
        "class_weights = class_weight.compute_class_weight(\n",
        "    class_weight='balanced',\n",
        "    classes=np.unique(y_train),\n",
        "    y=y_train\n",
        ")\n",
        "class_weights_dict = dict(enumerate(class_weights))\n",
        "\n",
        "# Train model\n",
        "history = model.fit(\n",
        "    X_train_padded,\n",
        "    y_train,\n",
        "    epochs=15,           # more epochs for better learning\n",
        "    batch_size=32,\n",
        "    validation_data=(X_test_padded, y_test),\n",
        "    class_weight=class_weights_dict,\n",
        "    verbose=2\n",
        ")"
      ],
      "metadata": {
        "id": "4tNOoEkSUCgO"
      },
      "execution_count": null,
      "outputs": []
    },
    {
      "cell_type": "code",
      "source": [
        "# Cell 8 - Evaluate model performance on validation set\n",
        "# Short: Check accuracy and plot training history\n",
        "\n",
        "loss, accuracy = model.evaluate(X_test_padded, y_test)\n",
        "print(f\"\\nValidation Accuracy: {accuracy:.4f}\")\n",
        "print(f\"Validation Loss: {loss:.4f}\")\n",
        "\n",
        "# Plot training/validation accuracy and loss\n",
        "plt.figure(figsize=(12,5))\n",
        "\n",
        "# Accuracy plot\n",
        "plt.subplot(1,2,1)\n",
        "plt.plot(history.history['accuracy'], label='Train Accuracy')\n",
        "plt.plot(history.history['val_accuracy'], label='Validation Accuracy')\n",
        "plt.title('Accuracy Over Epochs')\n",
        "plt.xlabel('Epoch')\n",
        "plt.ylabel('Accuracy')\n",
        "plt.legend()\n",
        "\n",
        "# Loss plot\n",
        "plt.subplot(1,2,2)\n",
        "plt.plot(history.history['loss'], label='Train Loss')\n",
        "plt.plot(history.history['val_loss'], label='Validation Loss')\n",
        "plt.title('Loss Over Epochs')\n",
        "plt.xlabel('Epoch')\n",
        "plt.ylabel('Loss')\n",
        "plt.legend()\n",
        "\n",
        "plt.show()"
      ],
      "metadata": {
        "id": "_rN2psO-UGnn"
      },
      "execution_count": null,
      "outputs": []
    },
    {
      "cell_type": "code",
      "source": [
        "# Cell 9 - Predict a single SMS message\n",
        "# Short: Convert text to sequence, pad it, predict probability, return label\n",
        "\n",
        "def predict_message(pred_text):\n",
        "    # Convert text to integer sequence\n",
        "    seq = tokenizer.texts_to_sequences([pred_text])\n",
        "\n",
        "    # Pad sequence\n",
        "    padded = keras.preprocessing.sequence.pad_sequences(seq, maxlen=max_length, padding='post')\n",
        "\n",
        "    # Predict probability of spam\n",
        "    prob = model.predict(padded, verbose=0)[0][0]\n",
        "\n",
        "    # Lower threshold to 0.25 for better spam detection\n",
        "    label = \"spam\" if prob > 0.25 else \"ham\"\n",
        "\n",
        "    return [float(prob), label]\n",
        "\n",
        "# Example usage\n",
        "pred_text = \"how are you doing today?\"\n",
        "prediction = predict_message(pred_text)\n",
        "print(prediction)"
      ],
      "metadata": {
        "id": "YCXqRrp6UNwy"
      },
      "execution_count": null,
      "outputs": []
    },
    {
      "cell_type": "code",
      "source": [
        "# Cell 10 - Test predict_message function on sample messages\n",
        "# Short: Automated test for FreeCodeCamp challenge\n",
        "\n",
        "def test_predictions():\n",
        "    test_messages = [\n",
        "        \"how are you doing today\",\n",
        "        \"sale today! to stop texts call 98912460324\",\n",
        "        \"i dont want to go. can we try it a different day? available sat\",\n",
        "        \"our new mobile video service is live. just install on your phone to start watching.\",\n",
        "        \"you have won £1000 cash! call to claim your prize.\",\n",
        "        \"i'll bring it tomorrow. don't forget the milk.\",\n",
        "        \"wow, is your arm alright. that happened to me one time too\"\n",
        "    ]\n",
        "\n",
        "    test_answers = [\"ham\", \"spam\", \"ham\", \"spam\", \"spam\", \"ham\", \"ham\"]\n",
        "    passed = True\n",
        "\n",
        "    for msg, ans in zip(test_messages, test_answers):\n",
        "        prediction = predict_message(msg)\n",
        "        if prediction[1] != ans:\n",
        "            passed = False\n",
        "\n",
        "    if passed:\n",
        "        print(\"You passed the challenge. Great job!\")\n",
        "    else:\n",
        "        print(\"You haven't passed yet. Keep trying.\")\n",
        "\n",
        "# Run test\n",
        "test_predictions()"
      ],
      "metadata": {
        "id": "WkUktHYDUPKG"
      },
      "execution_count": null,
      "outputs": []
    }
  ],
  "metadata": {
    "colab": {
      "name": "fcc_sms_text_classification.ipynb",
      "private_outputs": true,
      "provenance": [],
      "toc_visible": true,
      "include_colab_link": true
    },
    "kernelspec": {
      "display_name": "Python 3",
      "name": "python3"
    },
    "language_info": {}
  },
  "nbformat": 4,
  "nbformat_minor": 0
}